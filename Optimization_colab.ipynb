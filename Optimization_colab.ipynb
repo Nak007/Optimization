{
 "cells": [
  {
   "cell_type": "markdown",
   "metadata": {},
   "source": [
    "### Google.colab\n",
    "Only execute this cell when use on google colab platform (colab)."
   ]
  },
  {
   "cell_type": "markdown",
   "metadata": {},
   "source": [
    "<table class=\"tfo-notebook-buttons\" align=\"left\">\n",
    "  <td>\n",
    "    <a target=\"_blank\" href=\"https://github.com/Nak007/optimization\">\n",
    "    <img src=\"https://www.tensorflow.org/images/GitHub-Mark-32px.png\" />View source on GitHub</a>\n",
    "  </td>\n",
    "</table>"
   ]
  },
  {
   "cell_type": "code",
   "execution_count": null,
   "metadata": {},
   "outputs": [],
   "source": [
    "# Mount with google drive.\n",
    "from google.colab import drive\n",
    "drive.mount('/content/dirve')\n",
    "\n",
    "# Import other libraries required.\n",
    "!git clone 'http://github.com/Nak007/optimization.git'"
   ]
  },
  {
   "cell_type": "markdown",
   "metadata": {},
   "source": [
    "# Example"
   ]
  },
  {
   "cell_type": "code",
   "execution_count": 1,
   "metadata": {},
   "outputs": [],
   "source": [
    "from sklearn.datasets import load_breast_cancer\n",
    "import pandas as pd, numpy as np, sys\n",
    "sys.path.append('/content/optimization')\n",
    "from Optimization import *\n",
    "pd.options.display.float_format = '{:,.4f}'.format\n",
    "\n",
    "X = pd.DataFrame(load_breast_cancer().data)\n",
    "X.columns = [c.replace(' ','_') for c in \n",
    "             load_breast_cancer().feature_names]"
   ]
  },
  {
   "cell_type": "code",
   "execution_count": 2,
   "metadata": {},
   "outputs": [],
   "source": [
    "labels = load_breast_cancer().target\n",
    "x1 = np.log(X['mean_area'].values)\n",
    "x2 = np.log(X['mean_compactness'].values)"
   ]
  },
  {
   "cell_type": "code",
   "execution_count": 3,
   "metadata": {},
   "outputs": [
    {
     "data": {
      "application/vnd.jupyter.widget-view+json": {
       "model_id": "5b8488c4c4f240c6bb30363d48c85dbb",
       "version_major": 2,
       "version_minor": 0
      },
      "text/plain": [
       "HBox(children=(HTMLMath(value='Initializing . . .'), HTMLMath(value='')))"
      ]
     },
     "metadata": {},
     "output_type": "display_data"
    }
   ],
   "source": [
    "model_0 = impurity_binned_2d(bin_width='equal', n_bins=20).fit(x1, x2, labels)"
   ]
  },
  {
   "cell_type": "markdown",
   "metadata": {},
   "source": [
    "The attribute **info** provides information about output from each iteration."
   ]
  },
  {
   "cell_type": "code",
   "execution_count": 4,
   "metadata": {},
   "outputs": [
    {
     "data": {
      "text/html": [
       "<div>\n",
       "<style scoped>\n",
       "    .dataframe tbody tr th:only-of-type {\n",
       "        vertical-align: middle;\n",
       "    }\n",
       "\n",
       "    .dataframe tbody tr th {\n",
       "        vertical-align: top;\n",
       "    }\n",
       "\n",
       "    .dataframe thead th {\n",
       "        text-align: right;\n",
       "    }\n",
       "</style>\n",
       "<table border=\"1\" class=\"dataframe\">\n",
       "  <thead>\n",
       "    <tr style=\"text-align: right;\">\n",
       "      <th></th>\n",
       "      <th>bin1</th>\n",
       "      <th>bin2</th>\n",
       "      <th>gini</th>\n",
       "      <th>add_bin1</th>\n",
       "      <th>add_bin2</th>\n",
       "      <th>pct_delta</th>\n",
       "    </tr>\n",
       "  </thead>\n",
       "  <tbody>\n",
       "    <tr>\n",
       "      <th>0</th>\n",
       "      <td>1</td>\n",
       "      <td>1</td>\n",
       "      <td>0.4675</td>\n",
       "      <td>nan</td>\n",
       "      <td>nan</td>\n",
       "      <td>0.0649</td>\n",
       "    </tr>\n",
       "    <tr>\n",
       "      <th>1</th>\n",
       "      <td>2</td>\n",
       "      <td>2</td>\n",
       "      <td>0.1507</td>\n",
       "      <td>6.5383</td>\n",
       "      <td>-2.0712</td>\n",
       "      <td>0.6777</td>\n",
       "    </tr>\n",
       "    <tr>\n",
       "      <th>2</th>\n",
       "      <td>3</td>\n",
       "      <td>3</td>\n",
       "      <td>0.1307</td>\n",
       "      <td>6.2525</td>\n",
       "      <td>-1.7832</td>\n",
       "      <td>0.1327</td>\n",
       "    </tr>\n",
       "    <tr>\n",
       "      <th>3</th>\n",
       "      <td>4</td>\n",
       "      <td>4</td>\n",
       "      <td>0.1172</td>\n",
       "      <td>5.8238</td>\n",
       "      <td>-2.3593</td>\n",
       "      <td>0.1036</td>\n",
       "    </tr>\n",
       "    <tr>\n",
       "      <th>4</th>\n",
       "      <td>5</td>\n",
       "      <td>5</td>\n",
       "      <td>0.1117</td>\n",
       "      <td>6.8241</td>\n",
       "      <td>-2.7913</td>\n",
       "      <td>0.0465</td>\n",
       "    </tr>\n",
       "    <tr>\n",
       "      <th>5</th>\n",
       "      <td>6</td>\n",
       "      <td>6</td>\n",
       "      <td>0.1078</td>\n",
       "      <td>6.6812</td>\n",
       "      <td>-2.6473</td>\n",
       "      <td>0.0352</td>\n",
       "    </tr>\n",
       "    <tr>\n",
       "      <th>6</th>\n",
       "      <td>7</td>\n",
       "      <td>7</td>\n",
       "      <td>0.1032</td>\n",
       "      <td>6.3954</td>\n",
       "      <td>-1.9272</td>\n",
       "      <td>0.0424</td>\n",
       "    </tr>\n",
       "    <tr>\n",
       "      <th>7</th>\n",
       "      <td>8</td>\n",
       "      <td>8</td>\n",
       "      <td>0.1008</td>\n",
       "      <td>6.1096</td>\n",
       "      <td>-1.6391</td>\n",
       "      <td>0.0233</td>\n",
       "    </tr>\n",
       "    <tr>\n",
       "      <th>8</th>\n",
       "      <td>9</td>\n",
       "      <td>9</td>\n",
       "      <td>0.0989</td>\n",
       "      <td>5.9667</td>\n",
       "      <td>-2.9354</td>\n",
       "      <td>0.0184</td>\n",
       "    </tr>\n",
       "    <tr>\n",
       "      <th>9</th>\n",
       "      <td>10</td>\n",
       "      <td>10</td>\n",
       "      <td>0.0979</td>\n",
       "      <td>5.2521</td>\n",
       "      <td>-2.2152</td>\n",
       "      <td>0.0110</td>\n",
       "    </tr>\n",
       "    <tr>\n",
       "      <th>10</th>\n",
       "      <td>11</td>\n",
       "      <td>11</td>\n",
       "      <td>0.0972</td>\n",
       "      <td>5.3951</td>\n",
       "      <td>-2.5033</td>\n",
       "      <td>0.0064</td>\n",
       "    </tr>\n",
       "  </tbody>\n",
       "</table>\n",
       "</div>"
      ],
      "text/plain": [
       "    bin1  bin2   gini  add_bin1  add_bin2  pct_delta\n",
       "0      1     1 0.4675       nan       nan     0.0649\n",
       "1      2     2 0.1507    6.5383   -2.0712     0.6777\n",
       "2      3     3 0.1307    6.2525   -1.7832     0.1327\n",
       "3      4     4 0.1172    5.8238   -2.3593     0.1036\n",
       "4      5     5 0.1117    6.8241   -2.7913     0.0465\n",
       "5      6     6 0.1078    6.6812   -2.6473     0.0352\n",
       "6      7     7 0.1032    6.3954   -1.9272     0.0424\n",
       "7      8     8 0.1008    6.1096   -1.6391     0.0233\n",
       "8      9     9 0.0989    5.9667   -2.9354     0.0184\n",
       "9     10    10 0.0979    5.2521   -2.2152     0.0110\n",
       "10    11    11 0.0972    5.3951   -2.5033     0.0064"
      ]
     },
     "execution_count": 4,
     "metadata": {},
     "output_type": "execute_result"
    }
   ],
   "source": [
    "model_0.info"
   ]
  },
  {
   "cell_type": "markdown",
   "metadata": {},
   "source": [
    "Given $n^{th}$ iteration ($i$), this **plot** plots the corresponding output of bin edges i.e. **bin_edge1**, and **bin_edge2** on x, and y axis, respectively. \n",
    "\n",
    "For this example, we select $5^{th}$ iteration."
   ]
  },
  {
   "cell_type": "code",
   "execution_count": 5,
   "metadata": {},
   "outputs": [
    {
     "data": {
      "image/png": "[encoded data removed]",
      "text/plain": [
       "<Figure size 475.2x432 with 1 Axes>"
      ]
     },
     "metadata": {
      "needs_background": "light"
     },
     "output_type": "display_data"
    }
   ],
   "source": [
    "model_0.plot(5)"
   ]
  },
  {
   "cell_type": "markdown",
   "metadata": {},
   "source": [
    "Also, we can provide initial bin edges before running the algorithm."
   ]
  },
  {
   "cell_type": "code",
   "execution_count": 6,
   "metadata": {},
   "outputs": [],
   "source": [
    "def iqr_bounds(x, C=1.5):\n",
    "    \n",
    "    '''Compute IQR range given array (x)'''\n",
    "    iqr = np.percentile(x1, q=[25,75])\n",
    "    iqr = iqr + np.array([-1,1])*np.diff(iqr)*C\n",
    "    return np.fmax(np.fmin(iqr, max(x)),min(x))"
   ]
  },
  {
   "cell_type": "code",
   "execution_count": 7,
   "metadata": {},
   "outputs": [],
   "source": [
    "eps = np.finfo(float).eps*10\n",
    "\n",
    "q1 = iqr_bounds(x1)\n",
    "bin1 = [min(x1), q1[0], q1[1], max(x1) + eps]\n",
    "bin2 = [min(x2), np.median(x2), max(x2) + eps]"
   ]
  },
  {
   "cell_type": "code",
   "execution_count": 8,
   "metadata": {},
   "outputs": [
    {
     "name": "stdout",
     "output_type": "stream",
     "text": [
      "bin1 ==>  [4.9663 5.1083 7.5954 7.8244]\n",
      "bin2 ==>  [-3.9435 -2.3791 -1.0631]\n"
     ]
    }
   ],
   "source": [
    "print('bin1 ==> ', np.round(bin1,4))\n",
    "print('bin2 ==> ', np.round(bin2,4))"
   ]
  },
  {
   "cell_type": "code",
   "execution_count": 9,
   "metadata": {},
   "outputs": [
    {
     "data": {
      "application/vnd.jupyter.widget-view+json": {
       "model_id": "4bdb808407d14ea8a8496536bda6e933",
       "version_major": 2,
       "version_minor": 0
      },
      "text/plain": [
       "HBox(children=(HTMLMath(value='Initializing . . .'), HTMLMath(value='')))"
      ]
     },
     "metadata": {},
     "output_type": "display_data"
    }
   ],
   "source": [
    "model_1 = impurity_binned_2d(bin_width='equal',n_bins=20).fit(x1, x2, labels, bin1=bin1, bin2=bin2)"
   ]
  },
  {
   "cell_type": "code",
   "execution_count": 10,
   "metadata": {},
   "outputs": [
    {
     "data": {
      "text/html": [
       "<div>\n",
       "<style scoped>\n",
       "    .dataframe tbody tr th:only-of-type {\n",
       "        vertical-align: middle;\n",
       "    }\n",
       "\n",
       "    .dataframe tbody tr th {\n",
       "        vertical-align: top;\n",
       "    }\n",
       "\n",
       "    .dataframe thead th {\n",
       "        text-align: right;\n",
       "    }\n",
       "</style>\n",
       "<table border=\"1\" class=\"dataframe\">\n",
       "  <thead>\n",
       "    <tr style=\"text-align: right;\">\n",
       "      <th></th>\n",
       "      <th>bin1</th>\n",
       "      <th>bin2</th>\n",
       "      <th>gini</th>\n",
       "      <th>add_bin1</th>\n",
       "      <th>add_bin2</th>\n",
       "      <th>pct_delta</th>\n",
       "    </tr>\n",
       "  </thead>\n",
       "  <tbody>\n",
       "    <tr>\n",
       "      <th>0</th>\n",
       "      <td>3</td>\n",
       "      <td>2</td>\n",
       "      <td>0.3273</td>\n",
       "      <td>nan</td>\n",
       "      <td>nan</td>\n",
       "      <td>0.3454</td>\n",
       "    </tr>\n",
       "    <tr>\n",
       "      <th>1</th>\n",
       "      <td>4</td>\n",
       "      <td>3</td>\n",
       "      <td>0.1466</td>\n",
       "      <td>6.5383</td>\n",
       "      <td>-2.0712</td>\n",
       "      <td>0.5522</td>\n",
       "    </tr>\n",
       "    <tr>\n",
       "      <th>2</th>\n",
       "      <td>5</td>\n",
       "      <td>4</td>\n",
       "      <td>0.1248</td>\n",
       "      <td>6.2525</td>\n",
       "      <td>-1.7832</td>\n",
       "      <td>0.1487</td>\n",
       "    </tr>\n",
       "    <tr>\n",
       "      <th>3</th>\n",
       "      <td>6</td>\n",
       "      <td>5</td>\n",
       "      <td>0.1158</td>\n",
       "      <td>5.8238</td>\n",
       "      <td>-2.7913</td>\n",
       "      <td>0.0723</td>\n",
       "    </tr>\n",
       "    <tr>\n",
       "      <th>4</th>\n",
       "      <td>7</td>\n",
       "      <td>6</td>\n",
       "      <td>0.1103</td>\n",
       "      <td>6.8241</td>\n",
       "      <td>-2.6473</td>\n",
       "      <td>0.0470</td>\n",
       "    </tr>\n",
       "    <tr>\n",
       "      <th>5</th>\n",
       "      <td>8</td>\n",
       "      <td>7</td>\n",
       "      <td>0.1059</td>\n",
       "      <td>6.6812</td>\n",
       "      <td>-1.9272</td>\n",
       "      <td>0.0397</td>\n",
       "    </tr>\n",
       "    <tr>\n",
       "      <th>6</th>\n",
       "      <td>9</td>\n",
       "      <td>8</td>\n",
       "      <td>0.1018</td>\n",
       "      <td>6.3954</td>\n",
       "      <td>-1.6391</td>\n",
       "      <td>0.0393</td>\n",
       "    </tr>\n",
       "    <tr>\n",
       "      <th>7</th>\n",
       "      <td>10</td>\n",
       "      <td>9</td>\n",
       "      <td>0.0996</td>\n",
       "      <td>6.1096</td>\n",
       "      <td>-2.9354</td>\n",
       "      <td>0.0211</td>\n",
       "    </tr>\n",
       "    <tr>\n",
       "      <th>8</th>\n",
       "      <td>11</td>\n",
       "      <td>10</td>\n",
       "      <td>0.0979</td>\n",
       "      <td>5.9667</td>\n",
       "      <td>-2.2152</td>\n",
       "      <td>0.0177</td>\n",
       "    </tr>\n",
       "    <tr>\n",
       "      <th>9</th>\n",
       "      <td>12</td>\n",
       "      <td>11</td>\n",
       "      <td>0.0972</td>\n",
       "      <td>5.2521</td>\n",
       "      <td>-2.5033</td>\n",
       "      <td>0.0064</td>\n",
       "    </tr>\n",
       "    <tr>\n",
       "      <th>10</th>\n",
       "      <td>13</td>\n",
       "      <td>12</td>\n",
       "      <td>0.0971</td>\n",
       "      <td>5.3951</td>\n",
       "      <td>-1.4951</td>\n",
       "      <td>0.0018</td>\n",
       "    </tr>\n",
       "  </tbody>\n",
       "</table>\n",
       "</div>"
      ],
      "text/plain": [
       "    bin1  bin2   gini  add_bin1  add_bin2  pct_delta\n",
       "0      3     2 0.3273       nan       nan     0.3454\n",
       "1      4     3 0.1466    6.5383   -2.0712     0.5522\n",
       "2      5     4 0.1248    6.2525   -1.7832     0.1487\n",
       "3      6     5 0.1158    5.8238   -2.7913     0.0723\n",
       "4      7     6 0.1103    6.8241   -2.6473     0.0470\n",
       "5      8     7 0.1059    6.6812   -1.9272     0.0397\n",
       "6      9     8 0.1018    6.3954   -1.6391     0.0393\n",
       "7     10     9 0.0996    6.1096   -2.9354     0.0211\n",
       "8     11    10 0.0979    5.9667   -2.2152     0.0177\n",
       "9     12    11 0.0972    5.2521   -2.5033     0.0064\n",
       "10    13    12 0.0971    5.3951   -1.4951     0.0018"
      ]
     },
     "execution_count": 10,
     "metadata": {},
     "output_type": "execute_result"
    }
   ],
   "source": [
    "model_1.info"
   ]
  },
  {
   "cell_type": "code",
   "execution_count": 11,
   "metadata": {},
   "outputs": [
    {
     "data": {
      "image/png": "[encoded data removed]",
      "text/plain": [
       "<Figure size 475.2x432 with 1 Axes>"
      ]
     },
     "metadata": {
      "needs_background": "light"
     },
     "output_type": "display_data"
    }
   ],
   "source": [
    "model_1.plot(10)"
   ]
  },
  {
   "cell_type": "code",
   "execution_count": null,
   "metadata": {},
   "outputs": [],
   "source": []
  }
 ],
 "metadata": {
  "colab": {
   "authorship_tag": "ABX9TyP+LKtmGp73EQkQJSfFtbR3",
   "collapsed_sections": [],
   "name": "bin_optimize.ipynb",
   "provenance": []
  },
  "kernelspec": {
   "display_name": "Python 3",
   "language": "python",
   "name": "python3"
  },
  "language_info": {
   "codemirror_mode": {
    "name": "ipython",
    "version": 3
   },
   "file_extension": ".py",
   "mimetype": "text/x-python",
   "name": "python",
   "nbconvert_exporter": "python",
   "pygments_lexer": "ipython3",
   "version": "3.7.3"
  }
 },
 "nbformat": 4,
 "nbformat_minor": 1
}
